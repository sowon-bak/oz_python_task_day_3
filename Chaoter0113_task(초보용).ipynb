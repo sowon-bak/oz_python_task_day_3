{
 "cells": [
  {
   "cell_type": "markdown",
   "metadata": {
    "id": "fD4Qab2qYgOm"
   },
   "source": [
    "안녕하세요. 수강생 여러분~! \n",
    "\n",
    "Chapter01 ~ 13의 수업 내용을 바탕으로 아래 문제를 풀어주시면 됩니다 !\n",
    "\n",
    "지금까지 잘 해오셨으니까, 총 복습한다고 생각하시고 한번 도전해보세요 !!!\n",
    "\n",
    "<br>\n",
    "\n",
    "아래 code 부분에 있는 주석을 활용해서 코드를 작성해보세요 :)\n",
    "\n",
    "<br>\n",
    "\n",
    "- 그래도 어렵다면?\n",
    "\n",
    " `적혀 있는 주석을 모두 삭제한 후, 답안 코드를 활용해서 코드를 작성해보세요. 그리고 꼭 !!!!! 코드마다 주석을 작성해보세요!`\n",
    "\n",
    "<br>\n",
    "\n",
    "\n",
    "[**답변 입력 방법**]\n",
    "\n",
    "문제 아래에 있는 코드 입력창에 정답코드를 작성하신 후  __▷ 버튼을 클릭해 코드를 실행__ 해보세요<br>"
   ]
  },
  {
   "cell_type": "markdown",
   "metadata": {},
   "source": [
    "---"
   ]
  },
  {
   "cell_type": "markdown",
   "metadata": {},
   "source": [
    "### 프로젝트: 간단한 ATM 관리 시스템\n",
    "<br>\n",
    "\n",
    "__[문제 1: 잔액 확인]__\n",
    "\n",
    "현재 잔액은 1000원입니다. 현재 잔액을 출력하세요. \n",
    "\n",
    "(변수명 예시 : 잔액 - balance)"
   ]
  },
  {
   "cell_type": "code",
   "execution_count": null,
   "metadata": {},
   "outputs": [],
   "source": [
    "# 'balance'라는 이름의 변수를 만들고 초기 잔액 1000을 저장해 보세요.\n",
    "\n",
    "# print 함수를 이용해서 현재 잔액을 출력해 보세요."
   ]
  },
  {
   "cell_type": "markdown",
   "metadata": {},
   "source": [
    "__[문제 2: 입금]__\n",
    "\n",
    "가지고 있는 돈을 입금합니다.\n",
    "\n",
    "입금 금액을 입력받고, 잔액을 갱신한 후 새로운 잔액을 출력하세요. 입금 거래를 영수증 리스트에 기록하세요.\n",
    "\n",
    "- 입금 금액은 input()을 이용해 받습니다.\n",
    "- 영수증은 list()로 선언합니다.\n",
    "- 영수증에 들어가는 정보는 튜플 형태입니다.\n",
    "- 튜플에 담기는 정보는 (입금 or 출금, 입금 or 출금 금액, 현재 잔액)순 입니다.\n",
    "\n",
    "(변수명 예시: 영수증 리스트 - receipts, 입금 금액 - deposit_amount)\n"
   ]
  },
  {
   "cell_type": "code",
   "execution_count": null,
   "metadata": {},
   "outputs": [],
   "source": [
    "# input()을 사용해서 입금 금액을 사용자로부터 입력받아 보세요.\n",
    "# 입력받은 값은 숫자(int)로 바꿔야 합니다.\n",
    "\n",
    "# 잔액(balance)에 입금 금액을 더해서 잔액을 갱신해 보세요.\n",
    "\n",
    "# receipts라는 리스트를 생성하고, 거래 정보를 튜플 형태로 추가해 보세요.\n",
    "\n",
    "# 튜플에는 (입금/출금, 금액, 현재 잔액)을 저장하세요.\n",
    "\n",
    "# 마지막으로 잔액을 출력해 보세요."
   ]
  },
  {
   "cell_type": "markdown",
   "metadata": {},
   "source": [
    "__[문제 3: 출금]__\n",
    "\n",
    "사용자가 돈을 출금합니다. 출금 금액을 입력받고, 잔액을 갱신한 후 새로운 잔액을 출력하세요. 출금 거래를 영수증 리스트에 기록하세요. \n",
    "\n",
    "- 출금 금액은 input()을 이용해 받습니다.\n",
    "- 현재 잔액보다 출금 요청 금액이 많을 경우 현재 잔액 만큼만 출금되도록 합니다.\n",
    "- 영수증에 들어가는 정보는 튜플 형태입니다.\n",
    "- 튜플에 담기는 정보는 (입금 or 출금, 입금 or 출금 금액, 현재 잔액)순 입니다.\n",
    "\n",
    "(변수명 예시: 출금금액 - withdraw_amount)"
   ]
  },
  {
   "cell_type": "code",
   "execution_count": null,
   "metadata": {},
   "outputs": [],
   "source": [
    "# input()을 사용해서 출금 금액을 입력받아 보세요.\n",
    "\n",
    "# 입력받은 금액이 잔액보다 크다면, 출금 금액을 잔액으로 바꾸세요.\n",
    "\n",
    "# 잔액(balance)에서 출금 금액을 빼고 갱신해 보세요.\n",
    "\n",
    "# receipts 리스트에 출금 거래 정보를 튜플로 추가해 보세요.\n",
    "\n",
    "# 마지막으로 현재 잔액을 출력해 보세요."
   ]
  },
  {
   "cell_type": "markdown",
   "metadata": {},
   "source": [
    "__[문제 4: 모든 거래 내역 확인]__\n",
    "\n",
    "모든 거래 내역(영수증)을 요청받았을 때 출력하세요.\n",
    "- 지금까지 영수증에 추가된 정보를 출력합니다.\n",
    "- 출력 형태는 자유입니다."
   ]
  },
  {
   "cell_type": "code",
   "execution_count": null,
   "metadata": {},
   "outputs": [],
   "source": [
    "# receipts 리스트에 저장된 모든 거래를 하나씩 출력해 보세요.\n",
    "# for문을 이용해서 각 거래 정보를 반복하며 출력하면 됩니다.\n",
    "# 출력 형식은 자유롭게 구성해도 좋아요.\n"
   ]
  }
 ],
 "metadata": {
  "colab": {
   "authorship_tag": "ABX9TyOA/CeX7CUdbTKFxV0fsocV",
   "provenance": []
  },
  "kernelspec": {
   "display_name": "Python 3",
   "name": "python3"
  },
  "language_info": {
   "name": "python"
  }
 },
 "nbformat": 4,
 "nbformat_minor": 0
}
