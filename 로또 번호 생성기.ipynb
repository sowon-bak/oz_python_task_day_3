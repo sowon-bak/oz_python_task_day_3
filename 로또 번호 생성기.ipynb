{
 "cells": [
  {
   "cell_type": "code",
   "execution_count": 7,
   "id": "40b97c8e",
   "metadata": {},
   "outputs": [
    {
     "name": "stdout",
     "output_type": "stream",
     "text": [
      "로또번호 생성기\n",
      "몇 개의 로또 번호를 생성할까요?\n",
      "[2, 22, 26, 27, 32, 37]\n",
      "[15, 16, 25, 32, 37, 39]\n"
     ]
    }
   ],
   "source": [
    "import random\n",
    "\n",
    "def gen_lotto() :\n",
    "    lotto = random.sample(range(1,46),6)\n",
    "    lotto.sort()\n",
    "    return lotto\n",
    "\n",
    "count = 0\n",
    "print(f\"로또번호 생성기\")\n",
    "\n",
    "print(f\"몇 개의 로또 번호를 생성할까요?\")\n",
    "try_time = int(input())\n",
    "\n",
    "while True :\n",
    "    if try_time > count :\n",
    "        print(gen_lotto())\n",
    "        count += 1\n",
    "    else :\n",
    "        break\n",
    "\n",
    "    \n",
    "    "
   ]
  }
 ],
 "metadata": {
  "kernelspec": {
   "display_name": "Python 3",
   "language": "python",
   "name": "python3"
  },
  "language_info": {
   "codemirror_mode": {
    "name": "ipython",
    "version": 3
   },
   "file_extension": ".py",
   "mimetype": "text/x-python",
   "name": "python",
   "nbconvert_exporter": "python",
   "pygments_lexer": "ipython3",
   "version": "3.9.6"
  }
 },
 "nbformat": 4,
 "nbformat_minor": 5
}
